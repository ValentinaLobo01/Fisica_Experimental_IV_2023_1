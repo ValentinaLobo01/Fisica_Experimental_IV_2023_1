{
 "cells": [
  {
   "cell_type": "code",
   "execution_count": 1,
   "metadata": {},
   "outputs": [],
   "source": [
    "import ipywidgets as widgets\n",
    "import matplotlib.pyplot as plt\n",
    "import numpy as np\n",
    "from datetime import datetime\n",
    "\n",
    "import serial #Librería para la comunicación serial RS232 (Este es el protocolo de comunicación utilizado por las tarjetas Arduino)\n",
    "\n",
    "arduino = serial.Serial(None, baudrate=115200, timeout=1) #Creamos un puerto llamado arduino (puede ser otro nombre) con el mismo baudrate (bits por segundo) fijado en el programa del Arduino.\n",
    "\n",
    "if arduino.isOpen(): #Si el puerto ya estaba abierto, lo cerramos\n",
    "    print(\"Se ha cerrado una sesión previa del puerto\")\n",
    "    arduino.close()\n",
    "arduino.port='COM3' #Este es el puerto que le asignó el sistema operativo a la tarjeta Arduino (Se consulta en la interfaz de Arduino o en el Administrador de Dispositivos (en el caso de Windows))\n",
    "arduino.open() #Se abre el puerto. Desde este momento ya se pueden enviar y recibir mensajes a la tarjeta Arduino"
   ]
  },
  {
   "cell_type": "code",
   "execution_count": 11,
   "metadata": {},
   "outputs": [
    {
     "data": {
      "text/plain": [
       "5"
      ]
     },
     "execution_count": 11,
     "metadata": {},
     "output_type": "execute_result"
    }
   ],
   "source": [
    "#Configurar tiempo de integración\n",
    "\n",
    "int_time = 1000#[ms]\n",
    "\n",
    "arduino.write('I\\n'.encode())\n",
    "arduino.write(f'{int_time}\\n'.encode())"
   ]
  },
  {
   "cell_type": "code",
   "execution_count": 14,
   "metadata": {},
   "outputs": [
    {
     "name": "stderr",
     "output_type": "stream",
     "text": [
      "C:\\Users\\User\\AppData\\Local\\Temp/ipykernel_17544/4113855156.py:13: DeprecationWarning: string or file could not be read to its end due to unmatched data; this will raise a ValueError in the future.\n",
      "  intensity_array=np.fromstring(intensity_values, dtype=int, sep=\",\")\n",
      "c:\\Users\\User\\anaconda3\\lib\\site-packages\\numpy\\core\\fromnumeric.py:3432: RuntimeWarning: Mean of empty slice.\n",
      "  return _methods._mean(a, axis=axis, dtype=dtype,\n",
      "c:\\Users\\User\\anaconda3\\lib\\site-packages\\numpy\\core\\_methods.py:190: RuntimeWarning: invalid value encountered in double_scalars\n",
      "  ret = ret.dtype.type(ret / rcount)\n",
      "C:\\Users\\User\\AppData\\Local\\Temp/ipykernel_17544/4113855156.py:13: DeprecationWarning: string or file could not be read to its end due to unmatched data; this will raise a ValueError in the future.\n",
      "  intensity_array=np.fromstring(intensity_values, dtype=int, sep=\",\")\n",
      "c:\\Users\\User\\anaconda3\\lib\\site-packages\\numpy\\core\\fromnumeric.py:3432: RuntimeWarning: Mean of empty slice.\n",
      "  return _methods._mean(a, axis=axis, dtype=dtype,\n",
      "c:\\Users\\User\\anaconda3\\lib\\site-packages\\numpy\\core\\_methods.py:190: RuntimeWarning: invalid value encountered in double_scalars\n",
      "  ret = ret.dtype.type(ret / rcount)\n",
      "C:\\Users\\User\\AppData\\Local\\Temp/ipykernel_17544/4113855156.py:13: DeprecationWarning: string or file could not be read to its end due to unmatched data; this will raise a ValueError in the future.\n",
      "  intensity_array=np.fromstring(intensity_values, dtype=int, sep=\",\")\n",
      "c:\\Users\\User\\anaconda3\\lib\\site-packages\\numpy\\core\\fromnumeric.py:3432: RuntimeWarning: Mean of empty slice.\n",
      "  return _methods._mean(a, axis=axis, dtype=dtype,\n",
      "c:\\Users\\User\\anaconda3\\lib\\site-packages\\numpy\\core\\_methods.py:190: RuntimeWarning: invalid value encountered in double_scalars\n",
      "  ret = ret.dtype.type(ret / rcount)\n",
      "C:\\Users\\User\\AppData\\Local\\Temp/ipykernel_17544/4113855156.py:13: DeprecationWarning: string or file could not be read to its end due to unmatched data; this will raise a ValueError in the future.\n",
      "  intensity_array=np.fromstring(intensity_values, dtype=int, sep=\",\")\n",
      "c:\\Users\\User\\anaconda3\\lib\\site-packages\\numpy\\core\\fromnumeric.py:3432: RuntimeWarning: Mean of empty slice.\n",
      "  return _methods._mean(a, axis=axis, dtype=dtype,\n",
      "c:\\Users\\User\\anaconda3\\lib\\site-packages\\numpy\\core\\_methods.py:190: RuntimeWarning: invalid value encountered in double_scalars\n",
      "  ret = ret.dtype.type(ret / rcount)\n",
      "C:\\Users\\User\\AppData\\Local\\Temp/ipykernel_17544/4113855156.py:13: DeprecationWarning: string or file could not be read to its end due to unmatched data; this will raise a ValueError in the future.\n",
      "  intensity_array=np.fromstring(intensity_values, dtype=int, sep=\",\")\n",
      "c:\\Users\\User\\anaconda3\\lib\\site-packages\\numpy\\core\\fromnumeric.py:3432: RuntimeWarning: Mean of empty slice.\n",
      "  return _methods._mean(a, axis=axis, dtype=dtype,\n",
      "c:\\Users\\User\\anaconda3\\lib\\site-packages\\numpy\\core\\_methods.py:190: RuntimeWarning: invalid value encountered in double_scalars\n",
      "  ret = ret.dtype.type(ret / rcount)\n",
      "C:\\Users\\User\\AppData\\Local\\Temp/ipykernel_17544/4113855156.py:13: DeprecationWarning: string or file could not be read to its end due to unmatched data; this will raise a ValueError in the future.\n",
      "  intensity_array=np.fromstring(intensity_values, dtype=int, sep=\",\")\n",
      "c:\\Users\\User\\anaconda3\\lib\\site-packages\\numpy\\core\\fromnumeric.py:3432: RuntimeWarning: Mean of empty slice.\n",
      "  return _methods._mean(a, axis=axis, dtype=dtype,\n",
      "c:\\Users\\User\\anaconda3\\lib\\site-packages\\numpy\\core\\_methods.py:190: RuntimeWarning: invalid value encountered in double_scalars\n",
      "  ret = ret.dtype.type(ret / rcount)\n",
      "C:\\Users\\User\\AppData\\Local\\Temp/ipykernel_17544/4113855156.py:13: DeprecationWarning: string or file could not be read to its end due to unmatched data; this will raise a ValueError in the future.\n",
      "  intensity_array=np.fromstring(intensity_values, dtype=int, sep=\",\")\n",
      "c:\\Users\\User\\anaconda3\\lib\\site-packages\\numpy\\core\\fromnumeric.py:3432: RuntimeWarning: Mean of empty slice.\n",
      "  return _methods._mean(a, axis=axis, dtype=dtype,\n",
      "c:\\Users\\User\\anaconda3\\lib\\site-packages\\numpy\\core\\_methods.py:190: RuntimeWarning: invalid value encountered in double_scalars\n",
      "  ret = ret.dtype.type(ret / rcount)\n",
      "C:\\Users\\User\\AppData\\Local\\Temp/ipykernel_17544/4113855156.py:13: DeprecationWarning: string or file could not be read to its end due to unmatched data; this will raise a ValueError in the future.\n",
      "  intensity_array=np.fromstring(intensity_values, dtype=int, sep=\",\")\n",
      "c:\\Users\\User\\anaconda3\\lib\\site-packages\\numpy\\core\\fromnumeric.py:3432: RuntimeWarning: Mean of empty slice.\n",
      "  return _methods._mean(a, axis=axis, dtype=dtype,\n",
      "c:\\Users\\User\\anaconda3\\lib\\site-packages\\numpy\\core\\_methods.py:190: RuntimeWarning: invalid value encountered in double_scalars\n",
      "  ret = ret.dtype.type(ret / rcount)\n",
      "C:\\Users\\User\\AppData\\Local\\Temp/ipykernel_17544/4113855156.py:13: DeprecationWarning: string or file could not be read to its end due to unmatched data; this will raise a ValueError in the future.\n",
      "  intensity_array=np.fromstring(intensity_values, dtype=int, sep=\",\")\n",
      "c:\\Users\\User\\anaconda3\\lib\\site-packages\\numpy\\core\\fromnumeric.py:3432: RuntimeWarning: Mean of empty slice.\n",
      "  return _methods._mean(a, axis=axis, dtype=dtype,\n",
      "c:\\Users\\User\\anaconda3\\lib\\site-packages\\numpy\\core\\_methods.py:190: RuntimeWarning: invalid value encountered in double_scalars\n",
      "  ret = ret.dtype.type(ret / rcount)\n"
     ]
    },
    {
     "name": "stdout",
     "output_type": "stream",
     "text": [
      "Gráfica interrumpida por el usuario\n"
     ]
    }
   ],
   "source": [
    "%matplotlib qt\n",
    "#En jupyter se usa esto para crear una gráfica interactiva en lugar de mostrarla debajo de la celda.\n",
    "\n",
    "N=288 #Número de muestras a almacenar para mostrar en la gráfica\n",
    "intensity_array=np.zeros(N)\n",
    "wavelenght_array=np.arange(N)*2.3548+321.47 #Calibración por defecto, puede cambiarse luego\n",
    "data = []\n",
    "try:\n",
    "    while True:\n",
    "        arduino.reset_input_buffer() #Limpia el búfer\n",
    "        read_value=arduino.readline()\n",
    "        intensity_values=read_value.decode() #String con todas las intensidades de cada longitud de onda separadas por coma\n",
    "        intensity_array=np.fromstring(intensity_values, dtype=int, sep=\",\")\n",
    "        prom=\"promedio= \"+str(np.mean(intensity_array).round(2))\n",
    "\n",
    "        if(len(intensity_array)==289):\n",
    "            plt.plot(wavelenght_array,intensity_array[:288],'-')\n",
    "            plt.text(860,155,prom)\n",
    "            plt.xlabel('Wavelength (nm)')\n",
    "            plt.ylabel('Intensity (a.u.)')\n",
    "            plt.grid()\n",
    "            plt.draw() #Dibuja los puntos de la gráfica\n",
    "            data.append(intensity_array)\n",
    "            plt.pause(1) #Los puntos quedan visibles durante este tiempo\n",
    "            plt.cla() #limpia la gráfica\n",
    "except KeyboardInterrupt:\n",
    "    print(\"Gráfica interrumpida por el usuario\")"
   ]
  },
  {
   "cell_type": "code",
   "execution_count": 15,
   "metadata": {},
   "outputs": [],
   "source": [
    "now = datetime.now()\n",
    "date = now.strftime(\"%d_%m_%Y__%H_%M_%S\")\n",
    "date\n",
    "\n",
    "archive = open(f\"esp_data\\esp_X{len(data)}__{date}_muua2.txt\", \"w\")\n",
    "\n",
    "data = np.array(data)\n",
    "\n",
    "for i in data:\n",
    "    line = \" \".join(str(elemento) for elemento in i)\n",
    "    archive.write(line + \"\\n\")\n",
    "\n",
    "archive.close()"
   ]
  },
  {
   "cell_type": "code",
   "execution_count": null,
   "metadata": {},
   "outputs": [],
   "source": [
    "arduino.close()"
   ]
  }
 ],
 "metadata": {
  "kernelspec": {
   "display_name": "base",
   "language": "python",
   "name": "python3"
  },
  "language_info": {
   "codemirror_mode": {
    "name": "ipython",
    "version": 3
   },
   "file_extension": ".py",
   "mimetype": "text/x-python",
   "name": "python",
   "nbconvert_exporter": "python",
   "pygments_lexer": "ipython3",
   "version": "3.9.7"
  },
  "orig_nbformat": 4
 },
 "nbformat": 4,
 "nbformat_minor": 2
}
